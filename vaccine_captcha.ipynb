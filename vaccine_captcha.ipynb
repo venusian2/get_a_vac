{
 "cells": [
  {
   "cell_type": "code",
   "execution_count": 1,
   "metadata": {},
   "outputs": [],
   "source": [
    "from selenium import webdriver\n",
    "from selenium.webdriver.common.keys import Keys\n",
    "from selenium.webdriver.common.by import By\n",
    "from selenium.webdriver.support.ui import WebDriverWait\n",
    "from selenium.webdriver.support import expected_conditions as EC\n",
    "from selenium.webdriver.common.action_chains import ActionChains\n",
    "from datetime import datetime\n",
    "from random import uniform\n",
    "import speech_recognition as sr\n",
    "import ffmpy\n",
    "import requests\n",
    "import urllib\n",
    "import pydub\n",
    "import time\n",
    "import json\n",
    "import pandas as pd\n",
    "import sqlite3\n",
    "import os\n",
    "from helper import *"
   ]
  },
  {
   "cell_type": "code",
   "execution_count": 2,
   "metadata": {},
   "outputs": [],
   "source": [
    "#PATHS TO ELEMENTS\n",
    "\n",
    "#path to first sites text\n",
    "eligible_load = '//*[@id=\"statePods_table\"]/tbody/tr[1]/td[1]'\n",
    "\n",
    "#path to get started button\n",
    "get_started = '//*[@id=\"main\"]/section/div/div/div/button/div'\n",
    "\n",
    "#path to enter dob\n",
    "dob = '//*[@id=\"relationship\"]/div/div[1]/div[1]/div/div[1]/div[1]/input'\n",
    "\n",
    "#path to sex option\n",
    "nb = '//*[@id=\"relationship\"]/div/div[1]/div[2]/fieldset/div/div[3]/input'\n",
    "\n",
    "#path to live option\n",
    "live = '//*[@id=\"relationship\"]/div/div[2]/div[1]/fieldset/div/div[1]/input'\n",
    "\n",
    "#path to work option\n",
    "work = '//*[@id=\"relationship\"]/div/div[2]/div[2]/fieldset/div/div[2]/input'\n",
    "\n",
    "#path to enter zip\n",
    "zipcode = '//*[@id=\"relationship\"]/div/div[3]/div/div/div[1]/div[1]/input'\n",
    "\n",
    "#path to consent option\n",
    "consent = '//*[@id=\"acknowledgement\"]/div/section/fieldset/div/div/div/input'\n",
    "\n",
    "#path to submit option\n",
    "submit = '//*[@id=\"content\"]/section/div[3]/div[2]/button/div'\n",
    "\n",
    "#path to locate providers button/text\n",
    "providers = '//*[@id=\"content\"]/section/div[3]/div/button[2]/div'\n",
    "\n",
    "#path to jb or sb sites\n",
    "jb = 'jones beach'\n",
    "sb = 'suny stony brook'"
   ]
  },
  {
   "cell_type": "code",
   "execution_count": 3,
   "metadata": {},
   "outputs": [],
   "source": [
    "loc = jb"
   ]
  },
  {
   "cell_type": "code",
   "execution_count": 4,
   "metadata": {},
   "outputs": [],
   "source": [
    "def load_page():\n",
    "    search = WebDriverWait(driver, 1).until(\n",
    "        EC.presence_of_element_located((By.ID, 'OuterDiv'))\n",
    "    )\n",
    "\n",
    "    results = driver.find_elements_by_xpath('//*[@id=\"OuterDiv\"]/div')\n",
    "    slots = int(results[-1].text.split()[-1])\n",
    "    return slots"
   ]
  },
  {
   "cell_type": "code",
   "execution_count": 5,
   "metadata": {},
   "outputs": [],
   "source": [
    "def input_field(path, value):\n",
    "    \n",
    "    #wait for presence of element to load\n",
    "    fill_field = WebDriverWait(driver, 3).until(\n",
    "        EC.presence_of_element_located((By.XPATH, path))\n",
    "    )\n",
    "\n",
    "    #input value\n",
    "    fill_field.clear()\n",
    "    time.sleep(1)\n",
    "    fill_field.send_keys(value)\n",
    "    fill_field.send_keys(Keys.RETURN)\n",
    "    time.sleep(1)"
   ]
  },
  {
   "cell_type": "code",
   "execution_count": 6,
   "metadata": {},
   "outputs": [],
   "source": [
    "def click(path):\n",
    "    \n",
    "    #wait for presence of element to load\n",
    "    box = WebDriverWait(driver, 30).until(\n",
    "        EC.presence_of_element_located((By.XPATH, path))\n",
    "    )\n",
    "    \n",
    "    #click box\n",
    "    box.click()\n",
    "    \n",
    "    time.sleep(1)"
   ]
  },
  {
   "cell_type": "code",
   "execution_count": 7,
   "metadata": {},
   "outputs": [],
   "source": [
    "def page_load(path):\n",
    "    #wait for element to be loaded\n",
    "    WebDriverWait(driver, 20).until(\n",
    "        EC.visibility_of_element_located((By.XPATH, path)))"
   ]
  },
  {
   "cell_type": "code",
   "execution_count": 8,
   "metadata": {},
   "outputs": [],
   "source": [
    "def provider(location):\n",
    "    for i in range(2,4):\n",
    "        providers=driver.find_elements_by_class_name('providers')\n",
    "        \n",
    "        num = 0\n",
    "        for provider in providers:\n",
    "            num+=1\n",
    "            if location in provider.text.lower():\n",
    "                return '//*[@id=\"content\"]/section/section[{}]/section/section[1]/div[2]/div/p[2]/span/a'.format(num)\n",
    "        \n",
    "        try:\n",
    "            click('//*[@id=\"content\"]/section/section[11]/button[{}]'.format(i))\n",
    "        except:\n",
    "            time.sleep(2)\n",
    "            click('//*[@id=\"content\"]/section/section[11]/button[{}]'.format(i))  "
   ]
  },
  {
   "cell_type": "code",
   "execution_count": 9,
   "metadata": {},
   "outputs": [],
   "source": [
    "def fill_out_forms():\n",
    "    #goes to eligibilty page for ny\n",
    "    eligible = 'https://am-i-eligible.covid19vaccine.health.ny.gov'\n",
    "    driver.get(eligible)\n",
    "        \n",
    "    \n",
    "    #waits for text to be loaded\n",
    "    page_load(eligible_load)\n",
    "    \n",
    "    #click get started button to go to next page\n",
    "    try:\n",
    "        click(get_started)\n",
    "    except:\n",
    "        time.sleep(2)\n",
    "        click(get_started)\n",
    "    \n",
    "    \n",
    "    #fill in dob field\n",
    "    input_field(dob, '03201935')\n",
    "    \n",
    "    \n",
    "    #click sex option\n",
    "    click(nb)\n",
    "    \n",
    "    \n",
    "    #click yes for live in ny\n",
    "    click(live)\n",
    "    \n",
    "    \n",
    "    #click no for work in ny\n",
    "    click(work)\n",
    "    \n",
    "    \n",
    "    #input zip\n",
    "    input_field(zipcode, '11777')\n",
    "    \n",
    "    \n",
    "    #click to consent\n",
    "    try:\n",
    "        click(consent)\n",
    "    except:\n",
    "        time.sleep(2)\n",
    "        click(consent)\n",
    "\n",
    "    \n",
    "    #click to submit\n",
    "    try:\n",
    "        click(submit)\n",
    "    except:\n",
    "        time.sleep(2)\n",
    "        click(submit)\n",
    "\n",
    "    \n",
    "    #wait for providers page to load\n",
    "    page_load(providers)\n",
    "    \n",
    "    #click to find providers\n",
    "    click(providers)\n",
    "\n",
    "    #find site\n",
    "    site = provider(loc)\n",
    "    \n",
    "    #choose site\n",
    "    try:\n",
    "        click(site)\n",
    "    except:\n",
    "        time.sleep(2)\n",
    "        click(site)\n",
    "    \n",
    "    \n",
    "    #switch to new tab that is opened\n",
    "    driver.switch_to.window(driver.window_handles[1])"
   ]
  },
  {
   "cell_type": "code",
   "execution_count": 10,
   "metadata": {},
   "outputs": [],
   "source": [
    "def captcha():\n",
    "    #waiting for captcha to load\n",
    "    cap = '/html/body/app-root/recaptcha-component/div/div[2]/div/div/div/iframe'\n",
    "    WebDriverWait(driver, 5).until(\n",
    "        EC.element_to_be_clickable((By.XPATH, cap))\n",
    "    ) \n",
    "    \n",
    "    #switch to new tab that is opened\n",
    "    driver.switch_to.window(driver.window_handles[1])\n",
    "    \n",
    "    #switch to recaptcha frame\n",
    "    frames=driver.find_elements_by_tag_name(\"iframe\")\n",
    "    driver.switch_to.frame(frames[0]);\n",
    "    \n",
    "    path = '//*[@id=\"recaptcha-anchor\"]/div[1]'\n",
    "    \n",
    "    #wait for presence of element to load\n",
    "    box = WebDriverWait(driver, 30).until(\n",
    "        EC.presence_of_element_located((By.XPATH, path))\n",
    "    )\n",
    "        \n",
    "    #click box\n",
    "    box.click()\n",
    "    \n",
    "    path = '/html/body/div[3]/div[4]'\n",
    "    \n",
    "    #switch to recaptcha audio control frame\n",
    "    driver.switch_to.default_content()\n",
    "    frames=driver.find_element_by_xpath(path).find_elements_by_tag_name(\"iframe\")\n",
    "    driver.switch_to.frame(frames[0])\n",
    "    \n",
    "    path = '//*[@id=\"recaptcha-audio-button\"]'\n",
    "    \n",
    "    #wait for presence of element to load\n",
    "    box = WebDriverWait(driver, 30).until(\n",
    "        EC.presence_of_element_located((By.XPATH, path))\n",
    "    )\n",
    "        \n",
    "    #click box\n",
    "    box.click()\n",
    "    \n",
    "    captcha_page = driver.current_url\n",
    "    \n",
    "    while driver.current_url == captcha_page:\n",
    "        #get the mp3 audio file\n",
    "        src = WebDriverWait(driver, 30).until(\n",
    "            EC.presence_of_element_located((By.ID, \"audio-source\"))\n",
    "        ).get_attribute(\"src\")\n",
    "        #print(\"[INFO] Audio src: %s\"%src)\n",
    "        #download the mp3 audio file from the source\n",
    "        urllib.request.urlretrieve(src, os.getcwd()+\"/sample.mp3\")\n",
    "        \n",
    "        #Convert from MP3 to WAV format\n",
    "        sound = pydub.AudioSegment.from_mp3(os.getcwd()+\"/sample.mp3\")\n",
    "        sound.export(os.getcwd()+\"/sample.wav\", format=\"wav\")\n",
    "        sample_audio = sr.AudioFile(os.getcwd()+\"/sample.wav\")\n",
    "        \n",
    "        sample_audio = sr.AudioFile(os.getcwd()+\"/sample.wav\")\n",
    "        \n",
    "        r= sr.Recognizer()\n",
    "        \n",
    "        with sample_audio as source:\n",
    "            audio = r.record(source)\n",
    "            \n",
    "        #translate audio to text with google voice recognition\n",
    "        key=r.recognize_google(audio)\n",
    "        print(\"[INFO] Recaptcha Passcode: %s\"%key)\n",
    "        \n",
    "        path = '//*[@id=\"audio-response\"]'\n",
    "        \n",
    "        input_field(path, key)"
   ]
  },
  {
   "cell_type": "code",
   "execution_count": null,
   "metadata": {
    "scrolled": false
   },
   "outputs": [],
   "source": [
    "got_slot = False\n",
    "\n",
    "# datetime object containing current date and time\n",
    "now = datetime.now() # current date and time\n",
    "today = now.strftime(\"%B %d\")\n",
    "\n",
    "while got_slot == False:\n",
    "    # path to chromedriver\n",
    "    PATH = '/Users/jason/Documents/github/Webdrivers/chromedriver'\n",
    "    #opens an instance of chrome\n",
    "    driver = webdriver.Chrome(PATH)\n",
    "    \n",
    "    time.sleep(5)\n",
    "    \n",
    "    try:\n",
    "        fill_out_forms()\n",
    "    except:\n",
    "        driver.quit()\n",
    "        continue\n",
    "    \n",
    "    for i in range(1000):\n",
    "        #set variable sleep time\n",
    "        sleep = uniform(2,4)\n",
    "        \n",
    "        #refresh page\n",
    "        driver.refresh()\n",
    "\n",
    "        try:\n",
    "            slots = load_page()\n",
    "        \n",
    "        except:\n",
    "            time.sleep(sleep)\n",
    "            if i == 999:\n",
    "                os.system('say \"Restart\"')\n",
    "            continue\n",
    "            \n",
    "        works = False\n",
    "        for slot in range(slots):\n",
    "\n",
    "            try:\n",
    "                valid = driver.find_element_by_xpath('//*[@id=\"Marker{}Div\"]/div[2]/div/div[2]/div[8]/div/button'.format(slot))\n",
    "                month = driver.find_element_by_xpath('//*[@id=\"Marker{}Div\"]/div[2]/div/div[2]/div[1]'.format(slot))\n",
    "                if (valid.text == 'Event Full') or (today in month.text):\n",
    "                    continue\n",
    "                elif month.text.split()[1] in ['February', 'March']:\n",
    "                    valid.click()\n",
    "                    works = True\n",
    "                    break\n",
    "                else:\n",
    "                    continue\n",
    "            except:\n",
    "                continue\n",
    "    \n",
    "        if works == False:\n",
    "            \n",
    "            time.sleep(sleep)\n",
    "            if i == 999:\n",
    "                os.system('say \"Restart\"')\n",
    "            continue\n",
    "        else:\n",
    "            try:\n",
    "                tic = '//*[@id=\"content\"]/div[4]/div[2]/div/div/table/tbody/tr[2]/td[3]/input'\n",
    "                tic_box = WebDriverWait(driver, 3).until(\n",
    "                    EC.presence_of_element_located((By.XPATH, tic))\n",
    "                )\n",
    "                tic_box.click()\n",
    "    \n",
    "                next_bttn = driver.find_element_by_xpath('//*[@id=\"content\"]/div[4]/div[2]/div/div/div[2]/fieldset/button[2]')\n",
    "                next_bttn.click()\n",
    "                page = True\n",
    "            except:\n",
    "                #close current tab\n",
    "                driver.close()\n",
    "                \n",
    "                #switch to original tab\n",
    "                driver.switch_to.window(driver.window_handles[0])\n",
    "                \n",
    "                #choose site\n",
    "                try:\n",
    "                    click(site)\n",
    "                except:\n",
    "                    time.sleep(2)\n",
    "                    click(site)\n",
    "                \n",
    "                #switch to newly opened tab\n",
    "                driver.switch_to.window(driver.window_handles[1])\n",
    "                \n",
    "                page = False\n",
    "        \n",
    "        if page:\n",
    "            os.system('say \"Vaccine time.\"')\n",
    "            got_slot = True\n",
    "            break\n",
    "        elif i == 999:\n",
    "            os.system('say \"Restart\"')\n",
    "            \n",
    "        time.sleep(sleep) \n",
    "    \n",
    "    if got_slot:\n",
    "        break\n",
    "    \n",
    "    driver.quit()   \n",
    "    time.sleep(10) "
   ]
  },
  {
   "cell_type": "code",
   "execution_count": 11,
   "metadata": {},
   "outputs": [
    {
     "name": "stdout",
     "output_type": "stream",
     "text": [
      "[INFO] Recaptcha Passcode: voice recording app\n"
     ]
    }
   ],
   "source": [
    "# datetime object containing current date and time\n",
    "now = datetime.now() # current date and time\n",
    "today = now.strftime(\"%B %d\")\n",
    "\n",
    "\n",
    "# path to chromedriver\n",
    "PATH = '/Users/jason/Documents/github/Webdrivers/chromedriver'\n",
    "\n",
    "#set chrome options\n",
    "chrome_options = webdriver.ChromeOptions()\n",
    "chrome_options.add_argument('--disable-blink-features=AutomationControlled')\n",
    "chrome_options.add_argument(\"--incognito\")\n",
    "chrome_options.add_argument('--disable-extensions')\n",
    "chrome_options.add_argument('--profile-directory=Default')\n",
    "chrome_options.add_argument(\"--disable-plugins-discovery\")\n",
    "\n",
    "#opens an instance of chrome\n",
    "driver = webdriver.Chrome(options=chrome_options, executable_path=PATH)\n",
    "\n",
    "#driver = webdriver.Chrome(PATH)\n",
    "\n",
    "\n",
    "time.sleep(5)\n",
    "\n",
    "try:\n",
    "    fill_out_forms()\n",
    "except:\n",
    "    driver.quit()    \n",
    "\n",
    "\n",
    "captcha()"
   ]
  },
  {
   "cell_type": "code",
   "execution_count": null,
   "metadata": {},
   "outputs": [],
   "source": [
    "driver.execute_script(\"return navigator.userAgent\")"
   ]
  },
  {
   "cell_type": "markdown",
   "metadata": {},
   "source": [
    "captcha work"
   ]
  },
  {
   "cell_type": "code",
   "execution_count": null,
   "metadata": {},
   "outputs": [],
   "source": [
    "chrome_options = webdriver.ChromeOptions()\n",
    "#chrome_options.add_experimental_option(\"excludeSwitches\", ['enable-automation'])\n",
    "chrome_options.add_argument('--disable-blink-features=AutomationControlled')\n",
    "chrome_options.add_argument(\"--incognito\")\n",
    "chrome_options.add_argument('--disable-extensions')\n",
    "chrome_options.add_argument('--profile-directory=Default')\n",
    "chrome_options.add_argument(\"--disable-plugins-discovery\")\n",
    "#chrome_options.add_argument(\"user-agent=Chrome/89.0.4389.114\")\n"
   ]
  },
  {
   "cell_type": "code",
   "execution_count": null,
   "metadata": {},
   "outputs": [],
   "source": [
    "import speech_recognition as sr\n",
    "import ffmpy\n",
    "import requests\n",
    "import urllib\n",
    "import pydub"
   ]
  },
  {
   "cell_type": "code",
   "execution_count": null,
   "metadata": {},
   "outputs": [],
   "source": [
    "#switch to new tab that is opened\n",
    "driver.switch_to.window(driver.window_handles[1])"
   ]
  },
  {
   "cell_type": "code",
   "execution_count": null,
   "metadata": {},
   "outputs": [],
   "source": [
    "driver.current_url"
   ]
  },
  {
   "cell_type": "code",
   "execution_count": null,
   "metadata": {},
   "outputs": [],
   "source": [
    "driver.current_url"
   ]
  },
  {
   "cell_type": "code",
   "execution_count": 44,
   "metadata": {},
   "outputs": [
    {
     "name": "stdout",
     "output_type": "stream",
     "text": [
      "[INFO] Recaptcha Passcode: manufacture those water bottles\n"
     ]
    }
   ],
   "source": [
    "#switch to new tab that is opened\n",
    "driver.switch_to.window(driver.window_handles[1])\n",
    "\n",
    "#switch to recaptcha frame\n",
    "frames=driver.find_elements_by_tag_name(\"iframe\")\n",
    "driver.switch_to.frame(frames[0]);\n",
    "\n",
    "path = '//*[@id=\"recaptcha-anchor\"]/div[1]'\n",
    "\n",
    "#wait for presence of element to load\n",
    "box = WebDriverWait(driver, 30).until(\n",
    "    EC.presence_of_element_located((By.XPATH, path))\n",
    ")\n",
    "    \n",
    "#click box\n",
    "box.click()\n",
    "\n",
    "path = '/html/body/div[3]/div[4]'\n",
    "\n",
    "#switch to recaptcha audio control frame\n",
    "driver.switch_to.default_content()\n",
    "frames=driver.find_element_by_xpath(path).find_elements_by_tag_name(\"iframe\")\n",
    "driver.switch_to.frame(frames[0])\n",
    "\n",
    "path = '//*[@id=\"recaptcha-audio-button\"]'\n",
    "\n",
    "#wait for presence of element to load\n",
    "box = WebDriverWait(driver, 30).until(\n",
    "    EC.presence_of_element_located((By.XPATH, path))\n",
    ")\n",
    "        \n",
    "#click box\n",
    "box.click()\n",
    "\n",
    "captcha_page = driver.current_url\n",
    "\n",
    "while driver.current_url == captcha_page:\n",
    "    #get the mp3 audio file\n",
    "    src = WebDriverWait(driver, 30).until(\n",
    "        EC.presence_of_element_located((By.ID, \"audio-source\"))\n",
    "    ).get_attribute(\"src\")\n",
    "    #print(\"[INFO] Audio src: %s\"%src)\n",
    "    #download the mp3 audio file from the source\n",
    "    urllib.request.urlretrieve(src, os.getcwd()+\"/sample.mp3\")\n",
    "    \n",
    "    #Convert from MP3 to WAV format\n",
    "    sound = pydub.AudioSegment.from_mp3(os.getcwd()+\"/sample.mp3\")\n",
    "    sound.export(os.getcwd()+\"/sample.wav\", format=\"wav\")\n",
    "    sample_audio = sr.AudioFile(os.getcwd()+\"/sample.wav\")\n",
    "    \n",
    "    sample_audio = sr.AudioFile(os.getcwd()+\"/sample.wav\")\n",
    "    \n",
    "    r= sr.Recognizer()\n",
    "    \n",
    "    with sample_audio as source:\n",
    "        audio = r.record(source)\n",
    "        \n",
    "    #translate audio to text with google voice recognition\n",
    "    key=r.recognize_google(audio)\n",
    "    print(\"[INFO] Recaptcha Passcode: %s\"%key)\n",
    "    \n",
    "    path = '//*[@id=\"audio-response\"]'\n",
    "    \n",
    "    input_field(path, key)"
   ]
  },
  {
   "cell_type": "code",
   "execution_count": null,
   "metadata": {},
   "outputs": [],
   "source": [
    "#get the mp3 audio file\n",
    "src = WebDriverWait(driver, 30).until(\n",
    "    EC.presence_of_element_located((By.ID, \"audio-source\"))\n",
    ").get_attribute(\"src\")\n",
    "#print(\"[INFO] Audio src: %s\"%src)\n",
    "#download the mp3 audio file from the source\n",
    "urllib.request.urlretrieve(src, os.getcwd()+\"/sample.mp3\")\n",
    "\n",
    "#Convert from MP3 to WAV format\n",
    "sound = pydub.AudioSegment.from_mp3(os.getcwd()+\"/sample.mp3\")\n",
    "sound.export(os.getcwd()+\"/sample.wav\", format=\"wav\")\n",
    "sample_audio = sr.AudioFile(os.getcwd()+\"/sample.wav\")\n",
    "\n",
    "sample_audio = sr.AudioFile(os.getcwd()+\"/sample.wav\")\n",
    "\n",
    "r= sr.Recognizer()\n",
    "\n",
    "with sample_audio as source:\n",
    "    audio = r.record(source)\n",
    "    \n",
    "#translate audio to text with google voice recognition\n",
    "key=r.recognize_google(audio)\n",
    "print(\"[INFO] Recaptcha Passcode: %s\"%key)\n",
    "\n",
    "path = '//*[@id=\"audio-response\"]'\n",
    "\n",
    "input_field(path, key)"
   ]
  },
  {
   "cell_type": "code",
   "execution_count": null,
   "metadata": {},
   "outputs": [],
   "source": [
    "#switch to new tab that is opened\n",
    "driver.switch_to.window(driver.window_handles[1])"
   ]
  },
  {
   "cell_type": "code",
   "execution_count": null,
   "metadata": {},
   "outputs": [],
   "source": [
    "#switch to recaptcha frame\n",
    "frames=driver.find_elements_by_tag_name(\"iframe\")\n",
    "driver.switch_to.frame(frames[0]);\n"
   ]
  },
  {
   "cell_type": "code",
   "execution_count": null,
   "metadata": {},
   "outputs": [],
   "source": [
    "path = '//*[@id=\"recaptcha-anchor\"]/div[1]'"
   ]
  },
  {
   "cell_type": "code",
   "execution_count": null,
   "metadata": {},
   "outputs": [],
   "source": [
    "#wait for presence of element to load\n",
    "box = WebDriverWait(driver, 30).until(\n",
    "    EC.presence_of_element_located((By.XPATH, path))\n",
    ")\n",
    "    \n",
    "#click box\n",
    "box.click()"
   ]
  },
  {
   "cell_type": "code",
   "execution_count": null,
   "metadata": {},
   "outputs": [],
   "source": [
    "path = '/html/body/div[3]/div[4]'"
   ]
  },
  {
   "cell_type": "code",
   "execution_count": null,
   "metadata": {},
   "outputs": [],
   "source": [
    "#switch to recaptcha audio control frame\n",
    "driver.switch_to.default_content()\n",
    "frames=driver.find_element_by_xpath(path).find_elements_by_tag_name(\"iframe\")\n",
    "driver.switch_to.frame(frames[0])\n"
   ]
  },
  {
   "cell_type": "code",
   "execution_count": null,
   "metadata": {},
   "outputs": [],
   "source": [
    "path = '//*[@id=\"recaptcha-audio-button\"]'"
   ]
  },
  {
   "cell_type": "code",
   "execution_count": null,
   "metadata": {},
   "outputs": [],
   "source": [
    "#wait for presence of element to load\n",
    "box = WebDriverWait(driver, 30).until(\n",
    "    EC.presence_of_element_located((By.XPATH, path))\n",
    ")\n",
    "    \n",
    "#click box\n",
    "box.click()"
   ]
  },
  {
   "cell_type": "code",
   "execution_count": null,
   "metadata": {},
   "outputs": [],
   "source": [
    "#nth iterations\n",
    "path = '//*[@id=\":4\"]'"
   ]
  },
  {
   "cell_type": "code",
   "execution_count": null,
   "metadata": {},
   "outputs": [],
   "source": [
    "# first iteration\n",
    "path = '//*[@id=\":2\"]'"
   ]
  },
  {
   "cell_type": "code",
   "execution_count": null,
   "metadata": {},
   "outputs": [],
   "source": [
    "#wait for presence of element to load\n",
    "box = WebDriverWait(driver, 30).until(\n",
    "    EC.presence_of_element_located((By.XPATH, path))\n",
    ")\n",
    "    \n",
    "#click box\n",
    "box.click()"
   ]
  },
  {
   "cell_type": "code",
   "execution_count": null,
   "metadata": {},
   "outputs": [],
   "source": [
    "#get the mp3 audio file\n",
    "src = driver.find_element_by_id(\"audio-source\").get_attribute(\"src\")\n",
    "#print(\"[INFO] Audio src: %s\"%src)\n",
    "#download the mp3 audio file from the source\n",
    "urllib.request.urlretrieve(src, os.getcwd()+\"/sample.mp3\")"
   ]
  },
  {
   "cell_type": "code",
   "execution_count": null,
   "metadata": {},
   "outputs": [],
   "source": [
    "#Convert from MP3 to WAV format\n",
    "sound = pydub.AudioSegment.from_mp3(os.getcwd()+\"/sample.mp3\")\n",
    "sound.export(os.getcwd()+\"/sample.wav\", format=\"wav\")\n",
    "sample_audio = sr.AudioFile(os.getcwd()+\"/sample.wav\")"
   ]
  },
  {
   "cell_type": "code",
   "execution_count": null,
   "metadata": {},
   "outputs": [],
   "source": [
    "sample_audio = sr.AudioFile(os.getcwd()+\"/sample.wav\")"
   ]
  },
  {
   "cell_type": "code",
   "execution_count": null,
   "metadata": {},
   "outputs": [],
   "source": [
    "r= sr.Recognizer()"
   ]
  },
  {
   "cell_type": "code",
   "execution_count": null,
   "metadata": {},
   "outputs": [],
   "source": [
    "with sample_audio as source:\n",
    "    audio = r.record(source)"
   ]
  },
  {
   "cell_type": "code",
   "execution_count": null,
   "metadata": {},
   "outputs": [],
   "source": [
    "#translate audio to text with google voice recognition\n",
    "key=r.recognize_google(audio)\n",
    "print(\"[INFO] Recaptcha Passcode: %s\"%key)"
   ]
  },
  {
   "cell_type": "code",
   "execution_count": null,
   "metadata": {},
   "outputs": [],
   "source": [
    "path = '//*[@id=\"audio-response\"]'"
   ]
  },
  {
   "cell_type": "code",
   "execution_count": null,
   "metadata": {},
   "outputs": [],
   "source": [
    "frames"
   ]
  },
  {
   "cell_type": "code",
   "execution_count": null,
   "metadata": {},
   "outputs": [],
   "source": [
    "input_field(path, key)"
   ]
  },
  {
   "cell_type": "markdown",
   "metadata": {},
   "source": [
    "captcha get vac"
   ]
  },
  {
   "cell_type": "code",
   "execution_count": null,
   "metadata": {},
   "outputs": [],
   "source": [
    "driver.switch_to.alert"
   ]
  },
  {
   "cell_type": "code",
   "execution_count": null,
   "metadata": {},
   "outputs": [],
   "source": [
    "driver.switch_to.default_content()"
   ]
  },
  {
   "cell_type": "code",
   "execution_count": 23,
   "metadata": {},
   "outputs": [],
   "source": [
    "driver.switch_to.window(driver.window_handles[1])"
   ]
  },
  {
   "cell_type": "code",
   "execution_count": null,
   "metadata": {},
   "outputs": [],
   "source": [
    "tests = driver.find_element_by_xpath('//*[@id=\"backEndNextContainer\"]/button[1]')"
   ]
  },
  {
   "cell_type": "code",
   "execution_count": null,
   "metadata": {},
   "outputs": [],
   "source": [
    "actions = ActionChains(driver)\n",
    "actions.move_to_element('//*[@id=\"mat-dialog-2\"]/app-second-dose-dialog/div[1]/button')\n",
    "actions.click()\n",
    "actions.perform()"
   ]
  },
  {
   "cell_type": "code",
   "execution_count": 62,
   "metadata": {},
   "outputs": [
    {
     "ename": "ElementNotInteractableException",
     "evalue": "Message: element not interactable\n  (Session info: chrome=89.0.4389.114)\n",
     "output_type": "error",
     "traceback": [
      "\u001b[0;31m---------------------------------------------------------------------------\u001b[0m",
      "\u001b[0;31mElementNotInteractableException\u001b[0m           Traceback (most recent call last)",
      "\u001b[0;32m<ipython-input-62-cec4f8193589>\u001b[0m in \u001b[0;36m<module>\u001b[0;34m\u001b[0m\n\u001b[1;32m      1\u001b[0m \u001b[0mtest\u001b[0m \u001b[0;34m=\u001b[0m \u001b[0;34m'/html/body/app-root/app-layout/article/main/app-display-available-days/div/div/div[1]'\u001b[0m\u001b[0;34m\u001b[0m\u001b[0;34m\u001b[0m\u001b[0m\n\u001b[0;32m----> 2\u001b[0;31m \u001b[0mclick\u001b[0m\u001b[0;34m(\u001b[0m\u001b[0mtest\u001b[0m\u001b[0;34m)\u001b[0m\u001b[0;34m\u001b[0m\u001b[0;34m\u001b[0m\u001b[0m\n\u001b[0m",
      "\u001b[0;32m<ipython-input-6-141b7bd2411e>\u001b[0m in \u001b[0;36mclick\u001b[0;34m(path)\u001b[0m\n\u001b[1;32m      7\u001b[0m \u001b[0;34m\u001b[0m\u001b[0m\n\u001b[1;32m      8\u001b[0m     \u001b[0;31m#click box\u001b[0m\u001b[0;34m\u001b[0m\u001b[0;34m\u001b[0m\u001b[0;34m\u001b[0m\u001b[0m\n\u001b[0;32m----> 9\u001b[0;31m     \u001b[0mbox\u001b[0m\u001b[0;34m.\u001b[0m\u001b[0mclick\u001b[0m\u001b[0;34m(\u001b[0m\u001b[0;34m)\u001b[0m\u001b[0;34m\u001b[0m\u001b[0;34m\u001b[0m\u001b[0m\n\u001b[0m\u001b[1;32m     10\u001b[0m \u001b[0;34m\u001b[0m\u001b[0m\n\u001b[1;32m     11\u001b[0m     \u001b[0mtime\u001b[0m\u001b[0;34m.\u001b[0m\u001b[0msleep\u001b[0m\u001b[0;34m(\u001b[0m\u001b[0;36m1\u001b[0m\u001b[0;34m)\u001b[0m\u001b[0;34m\u001b[0m\u001b[0;34m\u001b[0m\u001b[0m\n",
      "\u001b[0;32m/opt/anaconda3/lib/python3.8/site-packages/selenium/webdriver/remote/webelement.py\u001b[0m in \u001b[0;36mclick\u001b[0;34m(self)\u001b[0m\n\u001b[1;32m     78\u001b[0m     \u001b[0;32mdef\u001b[0m \u001b[0mclick\u001b[0m\u001b[0;34m(\u001b[0m\u001b[0mself\u001b[0m\u001b[0;34m)\u001b[0m\u001b[0;34m:\u001b[0m\u001b[0;34m\u001b[0m\u001b[0;34m\u001b[0m\u001b[0m\n\u001b[1;32m     79\u001b[0m         \u001b[0;34m\"\"\"Clicks the element.\"\"\"\u001b[0m\u001b[0;34m\u001b[0m\u001b[0;34m\u001b[0m\u001b[0m\n\u001b[0;32m---> 80\u001b[0;31m         \u001b[0mself\u001b[0m\u001b[0;34m.\u001b[0m\u001b[0m_execute\u001b[0m\u001b[0;34m(\u001b[0m\u001b[0mCommand\u001b[0m\u001b[0;34m.\u001b[0m\u001b[0mCLICK_ELEMENT\u001b[0m\u001b[0;34m)\u001b[0m\u001b[0;34m\u001b[0m\u001b[0;34m\u001b[0m\u001b[0m\n\u001b[0m\u001b[1;32m     81\u001b[0m \u001b[0;34m\u001b[0m\u001b[0m\n\u001b[1;32m     82\u001b[0m     \u001b[0;32mdef\u001b[0m \u001b[0msubmit\u001b[0m\u001b[0;34m(\u001b[0m\u001b[0mself\u001b[0m\u001b[0;34m)\u001b[0m\u001b[0;34m:\u001b[0m\u001b[0;34m\u001b[0m\u001b[0;34m\u001b[0m\u001b[0m\n",
      "\u001b[0;32m/opt/anaconda3/lib/python3.8/site-packages/selenium/webdriver/remote/webelement.py\u001b[0m in \u001b[0;36m_execute\u001b[0;34m(self, command, params)\u001b[0m\n\u001b[1;32m    631\u001b[0m             \u001b[0mparams\u001b[0m \u001b[0;34m=\u001b[0m \u001b[0;34m{\u001b[0m\u001b[0;34m}\u001b[0m\u001b[0;34m\u001b[0m\u001b[0;34m\u001b[0m\u001b[0m\n\u001b[1;32m    632\u001b[0m         \u001b[0mparams\u001b[0m\u001b[0;34m[\u001b[0m\u001b[0;34m'id'\u001b[0m\u001b[0;34m]\u001b[0m \u001b[0;34m=\u001b[0m \u001b[0mself\u001b[0m\u001b[0;34m.\u001b[0m\u001b[0m_id\u001b[0m\u001b[0;34m\u001b[0m\u001b[0;34m\u001b[0m\u001b[0m\n\u001b[0;32m--> 633\u001b[0;31m         \u001b[0;32mreturn\u001b[0m \u001b[0mself\u001b[0m\u001b[0;34m.\u001b[0m\u001b[0m_parent\u001b[0m\u001b[0;34m.\u001b[0m\u001b[0mexecute\u001b[0m\u001b[0;34m(\u001b[0m\u001b[0mcommand\u001b[0m\u001b[0;34m,\u001b[0m \u001b[0mparams\u001b[0m\u001b[0;34m)\u001b[0m\u001b[0;34m\u001b[0m\u001b[0;34m\u001b[0m\u001b[0m\n\u001b[0m\u001b[1;32m    634\u001b[0m \u001b[0;34m\u001b[0m\u001b[0m\n\u001b[1;32m    635\u001b[0m     \u001b[0;32mdef\u001b[0m \u001b[0mfind_element\u001b[0m\u001b[0;34m(\u001b[0m\u001b[0mself\u001b[0m\u001b[0;34m,\u001b[0m \u001b[0mby\u001b[0m\u001b[0;34m=\u001b[0m\u001b[0mBy\u001b[0m\u001b[0;34m.\u001b[0m\u001b[0mID\u001b[0m\u001b[0;34m,\u001b[0m \u001b[0mvalue\u001b[0m\u001b[0;34m=\u001b[0m\u001b[0;32mNone\u001b[0m\u001b[0;34m)\u001b[0m\u001b[0;34m:\u001b[0m\u001b[0;34m\u001b[0m\u001b[0;34m\u001b[0m\u001b[0m\n",
      "\u001b[0;32m/opt/anaconda3/lib/python3.8/site-packages/selenium/webdriver/remote/webdriver.py\u001b[0m in \u001b[0;36mexecute\u001b[0;34m(self, driver_command, params)\u001b[0m\n\u001b[1;32m    319\u001b[0m         \u001b[0mresponse\u001b[0m \u001b[0;34m=\u001b[0m \u001b[0mself\u001b[0m\u001b[0;34m.\u001b[0m\u001b[0mcommand_executor\u001b[0m\u001b[0;34m.\u001b[0m\u001b[0mexecute\u001b[0m\u001b[0;34m(\u001b[0m\u001b[0mdriver_command\u001b[0m\u001b[0;34m,\u001b[0m \u001b[0mparams\u001b[0m\u001b[0;34m)\u001b[0m\u001b[0;34m\u001b[0m\u001b[0;34m\u001b[0m\u001b[0m\n\u001b[1;32m    320\u001b[0m         \u001b[0;32mif\u001b[0m \u001b[0mresponse\u001b[0m\u001b[0;34m:\u001b[0m\u001b[0;34m\u001b[0m\u001b[0;34m\u001b[0m\u001b[0m\n\u001b[0;32m--> 321\u001b[0;31m             \u001b[0mself\u001b[0m\u001b[0;34m.\u001b[0m\u001b[0merror_handler\u001b[0m\u001b[0;34m.\u001b[0m\u001b[0mcheck_response\u001b[0m\u001b[0;34m(\u001b[0m\u001b[0mresponse\u001b[0m\u001b[0;34m)\u001b[0m\u001b[0;34m\u001b[0m\u001b[0;34m\u001b[0m\u001b[0m\n\u001b[0m\u001b[1;32m    322\u001b[0m             response['value'] = self._unwrap_value(\n\u001b[1;32m    323\u001b[0m                 response.get('value', None))\n",
      "\u001b[0;32m/opt/anaconda3/lib/python3.8/site-packages/selenium/webdriver/remote/errorhandler.py\u001b[0m in \u001b[0;36mcheck_response\u001b[0;34m(self, response)\u001b[0m\n\u001b[1;32m    240\u001b[0m                 \u001b[0malert_text\u001b[0m \u001b[0;34m=\u001b[0m \u001b[0mvalue\u001b[0m\u001b[0;34m[\u001b[0m\u001b[0;34m'alert'\u001b[0m\u001b[0;34m]\u001b[0m\u001b[0;34m.\u001b[0m\u001b[0mget\u001b[0m\u001b[0;34m(\u001b[0m\u001b[0;34m'text'\u001b[0m\u001b[0;34m)\u001b[0m\u001b[0;34m\u001b[0m\u001b[0;34m\u001b[0m\u001b[0m\n\u001b[1;32m    241\u001b[0m             \u001b[0;32mraise\u001b[0m \u001b[0mexception_class\u001b[0m\u001b[0;34m(\u001b[0m\u001b[0mmessage\u001b[0m\u001b[0;34m,\u001b[0m \u001b[0mscreen\u001b[0m\u001b[0;34m,\u001b[0m \u001b[0mstacktrace\u001b[0m\u001b[0;34m,\u001b[0m \u001b[0malert_text\u001b[0m\u001b[0;34m)\u001b[0m\u001b[0;34m\u001b[0m\u001b[0;34m\u001b[0m\u001b[0m\n\u001b[0;32m--> 242\u001b[0;31m         \u001b[0;32mraise\u001b[0m \u001b[0mexception_class\u001b[0m\u001b[0;34m(\u001b[0m\u001b[0mmessage\u001b[0m\u001b[0;34m,\u001b[0m \u001b[0mscreen\u001b[0m\u001b[0;34m,\u001b[0m \u001b[0mstacktrace\u001b[0m\u001b[0;34m)\u001b[0m\u001b[0;34m\u001b[0m\u001b[0;34m\u001b[0m\u001b[0m\n\u001b[0m\u001b[1;32m    243\u001b[0m \u001b[0;34m\u001b[0m\u001b[0m\n\u001b[1;32m    244\u001b[0m     \u001b[0;32mdef\u001b[0m \u001b[0m_value_or_default\u001b[0m\u001b[0;34m(\u001b[0m\u001b[0mself\u001b[0m\u001b[0;34m,\u001b[0m \u001b[0mobj\u001b[0m\u001b[0;34m,\u001b[0m \u001b[0mkey\u001b[0m\u001b[0;34m,\u001b[0m \u001b[0mdefault\u001b[0m\u001b[0;34m)\u001b[0m\u001b[0;34m:\u001b[0m\u001b[0;34m\u001b[0m\u001b[0;34m\u001b[0m\u001b[0m\n",
      "\u001b[0;31mElementNotInteractableException\u001b[0m: Message: element not interactable\n  (Session info: chrome=89.0.4389.114)\n"
     ]
    }
   ],
   "source": [
    "test = '/html/body/app-root/app-layout/article/main/app-display-available-days/div/div/div[1]'\n",
    "click(test)"
   ]
  },
  {
   "cell_type": "code",
   "execution_count": 63,
   "metadata": {},
   "outputs": [],
   "source": [
    "click('/html/body/div[4]/div[2]/div/mat-dialog-container/app-second-dose-dialog/div[1]/button')"
   ]
  },
  {
   "cell_type": "code",
   "execution_count": null,
   "metadata": {},
   "outputs": [],
   "source": []
  },
  {
   "cell_type": "code",
   "execution_count": null,
   "metadata": {},
   "outputs": [],
   "source": [
    "classes = driver.find_elements_by_xpath('/html/body/app-root/app-layout/article/main/app-display-available-times/div[1]/div/div/div/div')"
   ]
  },
  {
   "cell_type": "code",
   "execution_count": null,
   "metadata": {},
   "outputs": [],
   "source": [
    "len(classes)"
   ]
  },
  {
   "cell_type": "code",
   "execution_count": null,
   "metadata": {},
   "outputs": [],
   "source": [
    "classes"
   ]
  },
  {
   "cell_type": "code",
   "execution_count": null,
   "metadata": {},
   "outputs": [],
   "source": [
    "for clas in classes:\n",
    "    print(clas.text)"
   ]
  },
  {
   "cell_type": "code",
   "execution_count": 58,
   "metadata": {},
   "outputs": [],
   "source": [
    "driver.switch_to.window(driver.window_handles[1])"
   ]
  },
  {
   "cell_type": "code",
   "execution_count": 61,
   "metadata": {},
   "outputs": [
    {
     "name": "stdout",
     "output_type": "stream",
     "text": [
      "April 18, 2021 Sunday\n",
      "May 20, 2021 Thursday\n",
      "May 21, 2021 Friday\n",
      "May 23, 2021 Sunday\n",
      "May 24, 2021 Monday\n",
      "May 25, 2021 Tuesday\n",
      "May 26, 2021 Wednesday\n",
      "May 27, 2021 Thursday\n",
      "May 28, 2021 Friday\n",
      "May 29, 2021 Saturday\n",
      "May 30, 2021 Sunday\n",
      "May 31, 2021 Monday\n"
     ]
    }
   ],
   "source": [
    "#check dates in slots\n",
    "appts = driver.find_elements_by_tag_name('h6')\n",
    "\n",
    "num = 0\n",
    "for appt in appts:\n",
    "    num+=1\n",
    "    time.sleep(2)\n",
    "    print(appt.text)\n",
    "\n",
    "try:\n",
    "    click('/html/body/app-root/app-layout/article/main/app-display-available-days/div/div/div[{}]'.format(num))\n",
    "except:\n",
    "    time.sleep(2)\n",
    "    click('/html/body/app-root/app-layout/article/main/app-display-available-days/div/div/div[{}]'.format(num))  "
   ]
  },
  {
   "cell_type": "code",
   "execution_count": null,
   "metadata": {},
   "outputs": [],
   "source": []
  },
  {
   "cell_type": "code",
   "execution_count": null,
   "metadata": {},
   "outputs": [],
   "source": [
    "<div class=\"btn-date rounded my-2\"><div><h6 class=\"pl-2 pt-1 m-0\">May 25, 2021 <span class=\"ml-2\">Tuesday</span></h6><div class=\"d-flex flex-row justify-content-between pl-2\"><div><div><span class=\"justify-content-end pr-2\">Available appointments</span><span><b>86</b></span></div><div><label class=\"justify-content-end pr-2 text-nowrap m-0\">Openings between</label><label class=\"text-nowrap\"><b>8:00 AM - 6:15 PM</b></label></div></div><div class=\"mb-auto date-icon\"><mat-icon role=\"img\" aria-hidden=\"false\" aria-label=\"Edit icon\" class=\"mat-icon notranslate align-top material-icons mat-icon-no-color\" data-mat-icon-type=\"font\">keyboard_arrow_right</mat-icon></div></div></div></div>"
   ]
  },
  {
   "cell_type": "code",
   "execution_count": null,
   "metadata": {},
   "outputs": [],
   "source": []
  }
 ],
 "metadata": {
  "kernelspec": {
   "display_name": "Python 3",
   "language": "python",
   "name": "python3"
  },
  "language_info": {
   "codemirror_mode": {
    "name": "ipython",
    "version": 3
   },
   "file_extension": ".py",
   "mimetype": "text/x-python",
   "name": "python",
   "nbconvert_exporter": "python",
   "pygments_lexer": "ipython3",
   "version": "3.8.5"
  }
 },
 "nbformat": 4,
 "nbformat_minor": 4
}
