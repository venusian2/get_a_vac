{
 "cells": [
  {
   "cell_type": "code",
   "execution_count": 45,
   "metadata": {},
   "outputs": [],
   "source": [
    "from selenium import webdriver\n",
    "from selenium.webdriver.common.keys import Keys\n",
    "from selenium.webdriver.common.by import By\n",
    "from selenium.webdriver.support.ui import WebDriverWait\n",
    "from selenium.webdriver.support import expected_conditions as EC\n",
    "from datetime import datetime\n",
    "from random import uniform\n",
    "import time\n",
    "import json\n",
    "import pandas as pd\n",
    "import sqlite3\n",
    "import os\n",
    "from helper import *\n",
    "import urllib"
   ]
  },
  {
   "cell_type": "code",
   "execution_count": 46,
   "metadata": {},
   "outputs": [],
   "source": [
    "#PATHS TO ELEMENTS\n",
    "\n",
    "#path to first sites text\n",
    "eligible_load = '//*[@id=\"statePods_table\"]/tbody/tr[1]/td[1]'\n",
    "\n",
    "#path to get started button\n",
    "get_started = '//*[@id=\"main\"]/section/div/div/div/button/div'\n",
    "\n",
    "#path to enter dob\n",
    "dob = '//*[@id=\"relationship\"]/div/div[1]/div[1]/div/div[1]/div[1]/input'\n",
    "\n",
    "#path to sex option\n",
    "nb = '//*[@id=\"relationship\"]/div/div[1]/div[2]/fieldset/div/div[3]/input'\n",
    "\n",
    "#path to live option\n",
    "live = '//*[@id=\"relationship\"]/div/div[2]/div[1]/fieldset/div/div[1]/input'\n",
    "\n",
    "#path to work option\n",
    "work = '//*[@id=\"relationship\"]/div/div[2]/div[2]/fieldset/div/div[2]/input'\n",
    "\n",
    "#path to enter zip\n",
    "zipcode = '//*[@id=\"relationship\"]/div/div[3]/div/div/div[1]/div[1]/input'\n",
    "\n",
    "#path to consent option\n",
    "consent = '//*[@id=\"acknowledgement\"]/div/section/fieldset/div/div/div/input'\n",
    "\n",
    "#path to submit option\n",
    "submit = '//*[@id=\"content\"]/section/div[3]/div[2]/button/div'\n",
    "\n",
    "#path to locate providers button/text\n",
    "providers = '//*[@id=\"content\"]/section/div[3]/div/button[2]/div'\n",
    "\n",
    "#path to jb or sb sites\n",
    "jb = 'jones beach'\n",
    "sb = 'suny stony brook'"
   ]
  },
  {
   "cell_type": "code",
   "execution_count": 47,
   "metadata": {},
   "outputs": [],
   "source": [
    "loc = jb"
   ]
  },
  {
   "cell_type": "code",
   "execution_count": 48,
   "metadata": {},
   "outputs": [],
   "source": [
    "def load_page():\n",
    "    search = WebDriverWait(driver, 1).until(\n",
    "        EC.presence_of_element_located((By.ID, 'OuterDiv'))\n",
    "    )\n",
    "\n",
    "    results = driver.find_elements_by_xpath('//*[@id=\"OuterDiv\"]/div')\n",
    "    slots = int(results[-1].text.split()[-1])\n",
    "    return slots"
   ]
  },
  {
   "cell_type": "code",
   "execution_count": 49,
   "metadata": {},
   "outputs": [],
   "source": [
    "def input_field(path, value):\n",
    "    \n",
    "    #wait for presence of element to load\n",
    "    fill_field = WebDriverWait(driver, 3).until(\n",
    "        EC.presence_of_element_located((By.XPATH, path))\n",
    "    )\n",
    "\n",
    "    #input value\n",
    "    fill_field.clear()\n",
    "    time.sleep(1)\n",
    "    fill_field.send_keys(value)\n",
    "    fill_field.send_keys(Keys.RETURN)\n",
    "    time.sleep(1)"
   ]
  },
  {
   "cell_type": "code",
   "execution_count": 50,
   "metadata": {},
   "outputs": [],
   "source": [
    "def click(path):\n",
    "    \n",
    "    #wait for presence of element to load\n",
    "    box = WebDriverWait(driver, 30).until(\n",
    "        EC.presence_of_element_located((By.XPATH, path))\n",
    "    )\n",
    "    \n",
    "    #click box\n",
    "    box.click()\n",
    "    \n",
    "    time.sleep(1)"
   ]
  },
  {
   "cell_type": "code",
   "execution_count": 51,
   "metadata": {},
   "outputs": [],
   "source": [
    "def page_load(path):\n",
    "    #wait for element to be loaded\n",
    "    WebDriverWait(driver, 20).until(\n",
    "        EC.visibility_of_element_located((By.XPATH, path)))"
   ]
  },
  {
   "cell_type": "code",
   "execution_count": 52,
   "metadata": {},
   "outputs": [],
   "source": [
    "def provider(location):\n",
    "    for i in range(2,4):\n",
    "        providers=driver.find_elements_by_class_name('providers')\n",
    "        \n",
    "        num = 0\n",
    "        for provider in providers:\n",
    "            num+=1\n",
    "            if location in provider.text.lower():\n",
    "                return '//*[@id=\"content\"]/section/section[{}]/section/section[1]/div[2]/div/p[2]/span/a'.format(num)\n",
    "        \n",
    "        try:\n",
    "            click('//*[@id=\"content\"]/section/section[11]/button[{}]'.format(i))\n",
    "        except:\n",
    "            time.sleep(2)\n",
    "            click('//*[@id=\"content\"]/section/section[11]/button[{}]'.format(i))  "
   ]
  },
  {
   "cell_type": "code",
   "execution_count": 53,
   "metadata": {},
   "outputs": [],
   "source": [
    "def fill_out_forms():\n",
    "    #goes to eligibilty page for ny\n",
    "    eligible = 'https://am-i-eligible.covid19vaccine.health.ny.gov'\n",
    "    driver.get(eligible)\n",
    "        \n",
    "    \n",
    "    #waits for text to be loaded\n",
    "    page_load(eligible_load)\n",
    "    \n",
    "    #click get started button to go to next page\n",
    "    try:\n",
    "        click(get_started)\n",
    "    except:\n",
    "        time.sleep(2)\n",
    "        click(get_started)\n",
    "    \n",
    "    \n",
    "    #fill in dob field\n",
    "    input_field(dob, '03201935')\n",
    "    \n",
    "    \n",
    "    #click sex option\n",
    "    click(nb)\n",
    "    \n",
    "    \n",
    "    #click yes for live in ny\n",
    "    click(live)\n",
    "    \n",
    "    \n",
    "    #click no for work in ny\n",
    "    click(work)\n",
    "    \n",
    "    \n",
    "    #input zip\n",
    "    input_field(zipcode, '11777')\n",
    "    \n",
    "    \n",
    "    #click to consent\n",
    "    try:\n",
    "        click(consent)\n",
    "    except:\n",
    "        time.sleep(2)\n",
    "        click(consent)\n",
    "\n",
    "    \n",
    "    #click to submit\n",
    "    try:\n",
    "        click(submit)\n",
    "    except:\n",
    "        time.sleep(2)\n",
    "        click(submit)\n",
    "\n",
    "    \n",
    "    #wait for providers page to load\n",
    "    page_load(providers)\n",
    "    \n",
    "    #click to find providers\n",
    "    click(providers)\n",
    "\n",
    "    #find site\n",
    "    site = provider(loc)\n",
    "    \n",
    "    #choose site\n",
    "    try:\n",
    "        click(site)\n",
    "    except:\n",
    "        time.sleep(2)\n",
    "        click(site)\n",
    "    \n",
    "    \n",
    "    #switch to new tab that is opened\n",
    "    driver.switch_to.window(driver.window_handles[1])"
   ]
  },
  {
   "cell_type": "code",
   "execution_count": null,
   "metadata": {
    "scrolled": false
   },
   "outputs": [],
   "source": [
    "got_slot = False\n",
    "\n",
    "# datetime object containing current date and time\n",
    "now = datetime.now() # current date and time\n",
    "today = now.strftime(\"%B %d\")\n",
    "\n",
    "while got_slot == False:\n",
    "    # path to chromedriver\n",
    "    PATH = '/Users/jason/Documents/github/Webdrivers/chromedriver'\n",
    "    #opens an instance of chrome\n",
    "    driver = webdriver.Chrome(PATH)\n",
    "    \n",
    "    time.sleep(5)\n",
    "    \n",
    "    try:\n",
    "        fill_out_forms()\n",
    "    except:\n",
    "        driver.quit()\n",
    "        continue\n",
    "    \n",
    "    for i in range(1000):\n",
    "        #set variable sleep time\n",
    "        sleep = uniform(2,4)\n",
    "        \n",
    "        #refresh page\n",
    "        driver.refresh()\n",
    "\n",
    "        try:\n",
    "            slots = load_page()\n",
    "        \n",
    "        except:\n",
    "            time.sleep(sleep)\n",
    "            if i == 999:\n",
    "                os.system('say \"Restart\"')\n",
    "            continue\n",
    "            \n",
    "        works = False\n",
    "        for slot in range(slots):\n",
    "\n",
    "            try:\n",
    "                valid = driver.find_element_by_xpath('//*[@id=\"Marker{}Div\"]/div[2]/div/div[2]/div[8]/div/button'.format(slot))\n",
    "                month = driver.find_element_by_xpath('//*[@id=\"Marker{}Div\"]/div[2]/div/div[2]/div[1]'.format(slot))\n",
    "                if (valid.text == 'Event Full') or (today in month.text):\n",
    "                    continue\n",
    "                elif month.text.split()[1] in ['February', 'March']:\n",
    "                    valid.click()\n",
    "                    works = True\n",
    "                    break\n",
    "                else:\n",
    "                    continue\n",
    "            except:\n",
    "                continue\n",
    "    \n",
    "        if works == False:\n",
    "            \n",
    "            time.sleep(sleep)\n",
    "            if i == 999:\n",
    "                os.system('say \"Restart\"')\n",
    "            continue\n",
    "        else:\n",
    "            try:\n",
    "                tic = '//*[@id=\"content\"]/div[4]/div[2]/div/div/table/tbody/tr[2]/td[3]/input'\n",
    "                tic_box = WebDriverWait(driver, 3).until(\n",
    "                    EC.presence_of_element_located((By.XPATH, tic))\n",
    "                )\n",
    "                tic_box.click()\n",
    "    \n",
    "                next_bttn = driver.find_element_by_xpath('//*[@id=\"content\"]/div[4]/div[2]/div/div/div[2]/fieldset/button[2]')\n",
    "                next_bttn.click()\n",
    "                page = True\n",
    "            except:\n",
    "                #close current tab\n",
    "                driver.close()\n",
    "                \n",
    "                #switch to original tab\n",
    "                driver.switch_to.window(driver.window_handles[0])\n",
    "                \n",
    "                #choose site\n",
    "                try:\n",
    "                    click(site)\n",
    "                except:\n",
    "                    time.sleep(2)\n",
    "                    click(site)\n",
    "                \n",
    "                #switch to newly opened tab\n",
    "                driver.switch_to.window(driver.window_handles[1])\n",
    "                \n",
    "                page = False\n",
    "        \n",
    "        if page:\n",
    "            os.system('say \"Vaccine time.\"')\n",
    "            got_slot = True\n",
    "            break\n",
    "        elif i == 999:\n",
    "            os.system('say \"Restart\"')\n",
    "            \n",
    "        time.sleep(sleep) \n",
    "    \n",
    "    if got_slot:\n",
    "        break\n",
    "    \n",
    "    driver.quit()   \n",
    "    time.sleep(10) "
   ]
  },
  {
   "cell_type": "code",
   "execution_count": 54,
   "metadata": {},
   "outputs": [],
   "source": [
    "# datetime object containing current date and time\n",
    "now = datetime.now() # current date and time\n",
    "today = now.strftime(\"%B %d\")\n",
    "\n",
    "\n",
    "# path to chromedriver\n",
    "PATH = '/Users/jason/Documents/github/Webdrivers/chromedriver'\n",
    "#opens an instance of chrome\n",
    "driver = webdriver.Chrome(PATH)\n",
    "\n",
    "time.sleep(5)\n",
    "\n",
    "try:\n",
    "    fill_out_forms()\n",
    "except:\n",
    "    driver.quit()"
   ]
  },
  {
   "cell_type": "markdown",
   "metadata": {},
   "source": [
    "captcha work"
   ]
  },
  {
   "cell_type": "code",
   "execution_count": 10,
   "metadata": {},
   "outputs": [],
   "source": [
    "import speech_recognition as sr\n",
    "import ffmpy\n",
    "import requests\n",
    "import urllib\n",
    "import pydub"
   ]
  },
  {
   "cell_type": "code",
   "execution_count": 94,
   "metadata": {},
   "outputs": [],
   "source": [
    "#switch to new tab that is opened\n",
    "driver.switch_to.window(driver.window_handles[1])"
   ]
  },
  {
   "cell_type": "code",
   "execution_count": 95,
   "metadata": {},
   "outputs": [],
   "source": [
    "#switch to recaptcha frame\n",
    "frames=driver.find_elements_by_tag_name(\"iframe\")\n",
    "driver.switch_to.frame(frames[0]);\n"
   ]
  },
  {
   "cell_type": "code",
   "execution_count": 96,
   "metadata": {},
   "outputs": [],
   "source": [
    "path = '//*[@id=\"recaptcha-anchor\"]/div[1]'"
   ]
  },
  {
   "cell_type": "code",
   "execution_count": 97,
   "metadata": {},
   "outputs": [],
   "source": [
    "#wait for presence of element to load\n",
    "box = WebDriverWait(driver, 30).until(\n",
    "    EC.presence_of_element_located((By.XPATH, path))\n",
    ")\n",
    "    \n",
    "#click box\n",
    "box.click()"
   ]
  },
  {
   "cell_type": "code",
   "execution_count": 98,
   "metadata": {},
   "outputs": [],
   "source": [
    "path = '/html/body/div[3]/div[4]'"
   ]
  },
  {
   "cell_type": "code",
   "execution_count": 99,
   "metadata": {},
   "outputs": [],
   "source": [
    "#switch to recaptcha audio control frame\n",
    "driver.switch_to.default_content()\n",
    "frames=driver.find_element_by_xpath(path).find_elements_by_tag_name(\"iframe\")\n",
    "driver.switch_to.frame(frames[0])\n"
   ]
  },
  {
   "cell_type": "code",
   "execution_count": 100,
   "metadata": {},
   "outputs": [],
   "source": [
    "path = '//*[@id=\"recaptcha-audio-button\"]'"
   ]
  },
  {
   "cell_type": "code",
   "execution_count": 101,
   "metadata": {},
   "outputs": [],
   "source": [
    "#wait for presence of element to load\n",
    "box = WebDriverWait(driver, 30).until(\n",
    "    EC.presence_of_element_located((By.XPATH, path))\n",
    ")\n",
    "    \n",
    "#click box\n",
    "box.click()"
   ]
  },
  {
   "cell_type": "code",
   "execution_count": 76,
   "metadata": {},
   "outputs": [],
   "source": [
    "path = '//*[@id=\":4\"]'"
   ]
  },
  {
   "cell_type": "code",
   "execution_count": 66,
   "metadata": {},
   "outputs": [],
   "source": [
    "path = '//*[@id=\":2\"]'"
   ]
  },
  {
   "cell_type": "code",
   "execution_count": 77,
   "metadata": {},
   "outputs": [],
   "source": [
    "#wait for presence of element to load\n",
    "box = WebDriverWait(driver, 30).until(\n",
    "    EC.presence_of_element_located((By.XPATH, path))\n",
    ")\n",
    "    \n",
    "#click box\n",
    "box.click()"
   ]
  },
  {
   "cell_type": "code",
   "execution_count": 118,
   "metadata": {},
   "outputs": [
    {
     "name": "stdout",
     "output_type": "stream",
     "text": [
      "[INFO] Audio src: https://www.google.com/recaptcha/enterprise/payload?p=06AGdBq26bS5mJJjY7pFOSjX_kDLFl5sUHQDh3_tSUTTbOi_ABLRFUk1Iumy2miiQmsyy8hW3CU8OxUHL0LAC6PqL3t6soskoH94spGhDwVDKLouKeg2YNSykKRnhyx_bihloUQN3R8_lB0yaQd2fg2ZvlnT7eQ04EQ9lPqDdFoKRKuemSfutjfMN1qNCVrtkEGdguAIkZDT9n&k=6Ld0c2kaAAAAAMApWtD336AwMkvul8C2B998-YK-\n"
     ]
    },
    {
     "data": {
      "text/plain": [
       "('/Users/jason/Downloads/get_a_vac-main/sample.mp3',\n",
       " <http.client.HTTPMessage at 0x7fac6812ca00>)"
      ]
     },
     "execution_count": 118,
     "metadata": {},
     "output_type": "execute_result"
    }
   ],
   "source": [
    "#get the mp3 audio file\n",
    "src = driver.find_element_by_id(\"audio-source\").get_attribute(\"src\")\n",
    "print(\"[INFO] Audio src: %s\"%src)\n",
    "#download the mp3 audio file from the source\n",
    "urllib.request.urlretrieve(src, os.getcwd()+\"/sample.mp3\")"
   ]
  },
  {
   "cell_type": "code",
   "execution_count": 119,
   "metadata": {},
   "outputs": [],
   "source": [
    "#Convert from MP3 to WAV format\n",
    "sound = pydub.AudioSegment.from_mp3(os.getcwd()+\"/sample.mp3\")\n",
    "sound.export(os.getcwd()+\"/sample.wav\", format=\"wav\")\n",
    "sample_audio = sr.AudioFile(os.getcwd()+\"/sample.wav\")"
   ]
  },
  {
   "cell_type": "code",
   "execution_count": 120,
   "metadata": {},
   "outputs": [],
   "source": [
    "sample_audio = sr.AudioFile(os.getcwd()+\"/sample.wav\")"
   ]
  },
  {
   "cell_type": "code",
   "execution_count": 121,
   "metadata": {},
   "outputs": [],
   "source": [
    "r= sr.Recognizer()"
   ]
  },
  {
   "cell_type": "code",
   "execution_count": 122,
   "metadata": {},
   "outputs": [],
   "source": [
    "with sample_audio as source:\n",
    "    audio = r.record(source)"
   ]
  },
  {
   "cell_type": "code",
   "execution_count": 123,
   "metadata": {},
   "outputs": [
    {
     "name": "stdout",
     "output_type": "stream",
     "text": [
      "[INFO] Recaptcha Passcode: a group of organisms\n"
     ]
    }
   ],
   "source": [
    "#translate audio to text with google voice recognition\n",
    "key=r.recognize_google(audio)\n",
    "print(\"[INFO] Recaptcha Passcode: %s\"%key)"
   ]
  },
  {
   "cell_type": "code",
   "execution_count": 124,
   "metadata": {},
   "outputs": [],
   "source": [
    "path = '//*[@id=\"audio-response\"]'"
   ]
  },
  {
   "cell_type": "code",
   "execution_count": 125,
   "metadata": {},
   "outputs": [],
   "source": [
    "input_field(path, key)"
   ]
  },
  {
   "cell_type": "markdown",
   "metadata": {},
   "source": [
    "loop through sites"
   ]
  },
  {
   "cell_type": "code",
   "execution_count": 30,
   "metadata": {},
   "outputs": [],
   "source": [
    "driver.switch_to.window(driver.window_handles[0])"
   ]
  },
  {
   "cell_type": "code",
   "execution_count": null,
   "metadata": {},
   "outputs": [],
   "source": [
    "def provider(site):\n",
    "    for i in range(2,4):\n",
    "        providers=driver.find_elements_by_class_name('providers')\n",
    "        \n",
    "        num = 0\n",
    "        for provider in providers:\n",
    "            num+=1\n",
    "            if loc in provider.text.lower():\n",
    "                return '//*[@id=\"content\"]/section/section[{}]/section/section[1]/div[2]/div/p[2]/span/a'.format(num)\n",
    "        \n",
    "        try:\n",
    "            click('//*[@id=\"content\"]/section/section[11]/button[{}]'.format(i))\n",
    "        except:\n",
    "            time.sleep(2)\n",
    "            click('//*[@id=\"content\"]/section/section[11]/button[{}]'.format(i))  "
   ]
  }
 ],
 "metadata": {
  "kernelspec": {
   "display_name": "Python 3",
   "language": "python",
   "name": "python3"
  },
  "language_info": {
   "codemirror_mode": {
    "name": "ipython",
    "version": 3
   },
   "file_extension": ".py",
   "mimetype": "text/x-python",
   "name": "python",
   "nbconvert_exporter": "python",
   "pygments_lexer": "ipython3",
   "version": "3.8.5"
  }
 },
 "nbformat": 4,
 "nbformat_minor": 4
}
